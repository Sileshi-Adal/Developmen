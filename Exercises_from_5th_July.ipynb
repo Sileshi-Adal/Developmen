{
 "cells": [
  {
   "cell_type": "markdown",
   "metadata": {},
   "source": [
    "## Exercises from 5th July, deadline 8th July 3 PM. \n"
   ]
  },
  {
   "cell_type": "markdown",
   "metadata": {},
   "source": [
    "## Task 1 (2p)\n",
    "\n",
    "Write functional programming code to apply a list of functions on a list of integers. Explain how it works as well and how it relates to functional programing."
   ]
  },
  {
   "cell_type": "code",
   "execution_count": 30,
   "metadata": {},
   "outputs": [
    {
     "data": {
      "text/plain": [
       "80"
      ]
     },
     "execution_count": 30,
     "metadata": {},
     "output_type": "execute_result"
    }
   ],
   "source": [
    "def calc(f,a,b):\n",
    "    return f(a,b)\n",
    "def add(a,b):\n",
    "    return a + b\n",
    "def divid(a,b):\n",
    "    return a/b\n",
    "#calc(divid, 50,10)\n",
    "calc(add,50,30)"
   ]
  },
  {
   "cell_type": "markdown",
   "metadata": {},
   "source": [
    "\n",
    "## Task 2 (2p)\n",
    "\n",
    "Find the greatest common divisor of a list of numbers using Reduce. Explain how the code works as well. Explain how it works as well and how it relates to functional programing."
   ]
  },
  {
   "cell_type": "code",
   "execution_count": 11,
   "metadata": {},
   "outputs": [
    {
     "data": {
      "text/plain": [
       "2"
      ]
     },
     "execution_count": 11,
     "metadata": {},
     "output_type": "execute_result"
    }
   ],
   "source": [
    "from functools import reduce \n",
    "\n",
    "def gcd(a,b):\n",
    "    if b==0:\n",
    "        return a\n",
    "    else:\n",
    "        return gcd(b,a%b)\n",
    "\n",
    "def GCD_Reduce(list):\n",
    "    return reduce(gcd, list)\n",
    "GCD_Reduce([4,8,10,12])"
   ]
  },
  {
   "cell_type": "markdown",
   "metadata": {},
   "source": [
    "## Task 3 (6p)\n",
    "\n",
    "1. Write a function groupby_demonstrator that takes as a list of tuples as an input (arg data) as well as boolean argument (verify_sorted). If verify_sorted is true, the list is sorted by the first key (0-th tuple element), otherwise it is not sorted.\n",
    "\n",
    "The function should print out key-value pairs by groups (as output from Python groupby). The print statements between groups should have an empty line. Print statements inside-group should not have empty lines in between (just new lines between records).\n",
    "\n",
    "2. Add a decorator ‘ensure_sourted_grouper’ that overrides the grouping, by making sure that the list is sorted when an argument ‘verify_sorted’ = True is passed. Otherwise, “You didn’t enforce the order” is printed to the console.\n"
   ]
  },
  {
   "cell_type": "code",
   "execution_count": 27,
   "metadata": {
    "code_folding": [
     0
    ]
   },
   "outputs": [
    {
     "name": "stdout",
     "output_type": "stream",
     "text": [
      "anik\n",
      "\n",
      "[('anik', 'chairman')]\n",
      "animal\n",
      "\n",
      "[('animal', 'dog')]\n",
      "sham\n",
      "\n",
      "[('sham', 'doctor')]\n",
      "sileshi\n",
      "\n",
      "[('sileshi', 'engineer')]\n"
     ]
    },
    {
     "data": {
      "text/plain": [
       "<function __main__.groupby_demonstrator(arg, verify_sorted)>"
      ]
     },
     "execution_count": 27,
     "metadata": {},
     "output_type": "execute_result"
    }
   ],
   "source": [
    "from itertools import groupby\n",
    "def groupby_demonstrator(arg,verify_sorted):\n",
    "   if verify_sorted == True:\n",
    "       data= sorted(arg,key=lambda tup: tup[0])\n",
    "       for x,y in groupby(data,key=lambda tup: tup[0]):\n",
    "           print (x,list(y), sep='\\n\\n')\n",
    "\n",
    "   else:\n",
    "       print(arg)\n",
    "\n",
    "groupby_demonstrator([('sileshi', 'engineer'), ('sham', 'doctor'), ('anik', 'chairman'),('animal', 'dog')], verify_sorted=True )\n",
    "\n",
    "(groupby_demonstrator)"
   ]
  },
  {
   "cell_type": "markdown",
   "metadata": {},
   "source": [
    "\n",
    "## Task 4 (5p)\n",
    "\n",
    "In your own words, describe what is functional programming and how you can write functional programming code in Python (start here: https://docs.python.org/3/library/functional.html)\n",
    "\n"
   ]
  },
  {
   "cell_type": "markdown",
   "metadata": {},
   "source": [
    "Functional programming is a programming languages which is desidgned based on mathematical function in order to handle symbolic computation.\n",
    "\n",
    "- It use conditional expressions and recursion to perform computation.\n",
    "- Functional programming languages don’t support flow Controls like loop statements and conditional statements\n",
    "\n",
    "The functional programming does not support state due to that it have advantages to be a bugs free code but as a downside, functional programming requires a large memory space. As it does not have state, we need to create new objects every time to perform actions.\n",
    "\n",
    "The objectives of using functional programming is to\n",
    "\n",
    "1. write down more compressed and predictable codes, and\n",
    "2. test the program more easily.\n",
    "\n",
    "On the based of features, functional programming has some distuiguishing features in comparison to other programs. The features are as following -\n",
    "\n",
    "1. it is combined of pure functions\n",
    "2. it avoids shared state, mutable data, and side-effects, and\n",
    "3. it is more in imperative rather than declarative in term of approach."
   ]
  },
  {
   "cell_type": "code",
   "execution_count": null,
   "metadata": {},
   "outputs": [],
   "source": []
  }
 ],
 "metadata": {
  "kernelspec": {
   "display_name": "Python 3",
   "language": "python",
   "name": "python3"
  },
  "language_info": {
   "codemirror_mode": {
    "name": "ipython",
    "version": 3
   },
   "file_extension": ".py",
   "mimetype": "text/x-python",
   "name": "python",
   "nbconvert_exporter": "python",
   "pygments_lexer": "ipython3",
   "version": "3.7.3"
  },
  "toc": {
   "base_numbering": 1,
   "nav_menu": {},
   "number_sections": true,
   "sideBar": true,
   "skip_h1_title": false,
   "title_cell": "Table of Contents",
   "title_sidebar": "Contents",
   "toc_cell": false,
   "toc_position": {},
   "toc_section_display": true,
   "toc_window_display": false
  },
  "varInspector": {
   "cols": {
    "lenName": 16,
    "lenType": 16,
    "lenVar": 40
   },
   "kernels_config": {
    "python": {
     "delete_cmd_postfix": "",
     "delete_cmd_prefix": "del ",
     "library": "var_list.py",
     "varRefreshCmd": "print(var_dic_list())"
    },
    "r": {
     "delete_cmd_postfix": ") ",
     "delete_cmd_prefix": "rm(",
     "library": "var_list.r",
     "varRefreshCmd": "cat(var_dic_list()) "
    }
   },
   "types_to_exclude": [
    "module",
    "function",
    "builtin_function_or_method",
    "instance",
    "_Feature"
   ],
   "window_display": false
  }
 },
 "nbformat": 4,
 "nbformat_minor": 2
}
